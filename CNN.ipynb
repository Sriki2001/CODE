{
 "cells": [
  {
   "cell_type": "markdown",
   "id": "873559e8",
   "metadata": {},
   "source": [
    "# Convolution Neural Network"
   ]
  },
  {
   "cell_type": "markdown",
   "id": "968d71e5",
   "metadata": {},
   "source": [
    "## Importing libraries "
   ]
  },
  {
   "cell_type": "code",
   "execution_count": 41,
   "id": "5eafb7a3",
   "metadata": {},
   "outputs": [],
   "source": [
    "import numpy as np\n",
    "import pandas as pd\n",
    "import matplotlib.pyplot as plt\n",
    "import seaborn as sns\n",
    "import tensorflow as tf\n"
   ]
  },
  {
   "cell_type": "code",
   "execution_count": 42,
   "id": "dae5ebd1",
   "metadata": {},
   "outputs": [],
   "source": [
    "#one more compalsary thing in case of CNN is to import Image data generator from Keras image module\n",
    "from keras.preprocessing.image import ImageDataGenerator"
   ]
  },
  {
   "cell_type": "markdown",
   "id": "34c4fa44",
   "metadata": {},
   "source": [
    "## Part 1: Data Preprocessing"
   ]
  },
  {
   "cell_type": "markdown",
   "id": "6a42e6fd",
   "metadata": {},
   "source": [
    "### Preprocessing of training set"
   ]
  },
  {
   "cell_type": "code",
   "execution_count": 43,
   "id": "92a0a935",
   "metadata": {},
   "outputs": [
    {
     "name": "stdout",
     "output_type": "stream",
     "text": [
      "Found 8000 images belonging to 2 classes.\n"
     ]
    }
   ],
   "source": [
    "# Process of Image augmentation to avoid over fitting\n",
    "# rescaling is used for feature scaling\n",
    "train_datagen = ImageDataGenerator(\n",
    "        rescale=1./255,\n",
    "        shear_range=0.2,\n",
    "        zoom_range=0.2,\n",
    "        horizontal_flip=True)\n",
    "# applying to the dataset we have\n",
    "training_set = train_datagen.flow_from_directory(\n",
    "        'dataset/training_set',\n",
    "        target_size=(64, 64),\n",
    "        batch_size=32,\n",
    "        class_mode='binary')"
   ]
  },
  {
   "cell_type": "markdown",
   "id": "0df5fdc6",
   "metadata": {},
   "source": [
    "### Preprocessing of test set"
   ]
  },
  {
   "cell_type": "code",
   "execution_count": 44,
   "id": "421c255f",
   "metadata": {},
   "outputs": [
    {
     "name": "stdout",
     "output_type": "stream",
     "text": [
      "Found 2000 images belonging to 2 classes.\n"
     ]
    }
   ],
   "source": [
    "test_datagen = ImageDataGenerator(rescale=1./255)\n",
    "test_set = test_datagen.flow_from_directory(\n",
    "        'dataset/test_set',\n",
    "        target_size=(64, 64),\n",
    "        batch_size=32,\n",
    "        class_mode='binary')"
   ]
  },
  {
   "cell_type": "markdown",
   "id": "e40c2289",
   "metadata": {},
   "source": [
    "## Building  CNN\n"
   ]
  },
  {
   "cell_type": "markdown",
   "id": "1195f43a",
   "metadata": {},
   "source": [
    "### initialising the CNN"
   ]
  },
  {
   "cell_type": "code",
   "execution_count": 45,
   "id": "d47fae89",
   "metadata": {},
   "outputs": [],
   "source": [
    "cnn=tf.keras.models.Sequential()"
   ]
  },
  {
   "cell_type": "markdown",
   "id": "826fc051",
   "metadata": {},
   "source": [
    "### Step 1: Convolution"
   ]
  },
  {
   "cell_type": "code",
   "execution_count": 46,
   "id": "b7e50a65",
   "metadata": {},
   "outputs": [],
   "source": [
    "cnn.add(tf.keras.layers.Conv2D(filters=32,kernel_size=3,activation='relu',input_shape=[64,64,3]))\n",
    "#kernal size is dimension of feature detector/kernal . here 3 stands for 3*3 matrix"
   ]
  },
  {
   "cell_type": "markdown",
   "id": "c2dd7a88",
   "metadata": {},
   "source": [
    "### Step 2: Pooling"
   ]
  },
  {
   "cell_type": "code",
   "execution_count": 47,
   "id": "3a3c7638",
   "metadata": {},
   "outputs": [],
   "source": [
    "cnn.add(tf.keras.layers.MaxPool2D(pool_size=2, strides=2))"
   ]
  },
  {
   "cell_type": "markdown",
   "id": "7eccde66",
   "metadata": {},
   "source": [
    "### Adding a second convolution layer"
   ]
  },
  {
   "cell_type": "code",
   "execution_count": 48,
   "id": "3dad6cf7",
   "metadata": {},
   "outputs": [],
   "source": [
    "cnn.add(tf.keras.layers.Conv2D(filters=32,kernel_size=3,activation='relu'))\n",
    "#kernal size is dimension of feature detector/kernal . here 3 stands for 3*3 matrix\n",
    "cnn.add(tf.keras.layers.MaxPool2D(pool_size=2, strides=2))"
   ]
  },
  {
   "cell_type": "markdown",
   "id": "288a7a06",
   "metadata": {},
   "source": [
    "### Step 3: Flattening"
   ]
  },
  {
   "cell_type": "code",
   "execution_count": 49,
   "id": "26aa63ff",
   "metadata": {},
   "outputs": [],
   "source": [
    "cnn.add(tf.keras.layers.Flatten())"
   ]
  },
  {
   "cell_type": "markdown",
   "id": "e16bd02a",
   "metadata": {},
   "source": [
    "### Step 4: Full Conversion"
   ]
  },
  {
   "cell_type": "code",
   "execution_count": 50,
   "id": "cce9ba34",
   "metadata": {},
   "outputs": [],
   "source": [
    "cnn.add(tf.keras.layers.Dense(units=128,activation='relu'))"
   ]
  },
  {
   "cell_type": "markdown",
   "id": "0202ff59",
   "metadata": {},
   "source": [
    "### Step 5: Output layer"
   ]
  },
  {
   "cell_type": "code",
   "execution_count": 51,
   "id": "13d76bd6",
   "metadata": {},
   "outputs": [],
   "source": [
    "cnn.add(tf.keras.layers.Dense(units=1,activation='sigmoid'))"
   ]
  },
  {
   "cell_type": "markdown",
   "id": "364ca90e",
   "metadata": {},
   "source": [
    "## Training the CNN"
   ]
  },
  {
   "cell_type": "markdown",
   "id": "2e523a1f",
   "metadata": {},
   "source": [
    "### Compiling the CNN"
   ]
  },
  {
   "cell_type": "code",
   "execution_count": 52,
   "id": "72ead2f9",
   "metadata": {},
   "outputs": [],
   "source": [
    "cnn.compile(optimizer='adam',loss='binary_crossentropy',metrics=['accuracy'])"
   ]
  },
  {
   "cell_type": "markdown",
   "id": "3953d044",
   "metadata": {},
   "source": [
    "### Training the CNN on the training set and evaluating on the test set"
   ]
  },
  {
   "cell_type": "code",
   "execution_count": 53,
   "id": "fdad57ca",
   "metadata": {},
   "outputs": [
    {
     "name": "stdout",
     "output_type": "stream",
     "text": [
      "Epoch 1/25\n",
      "250/250 [==============================] - 30s 119ms/step - loss: 0.6678 - accuracy: 0.5881 - val_loss: 0.5951 - val_accuracy: 0.6825\n",
      "Epoch 2/25\n",
      "250/250 [==============================] - 33s 131ms/step - loss: 0.5989 - accuracy: 0.6805 - val_loss: 0.5792 - val_accuracy: 0.6920\n",
      "Epoch 3/25\n",
      "250/250 [==============================] - 35s 139ms/step - loss: 0.5534 - accuracy: 0.7166 - val_loss: 0.5191 - val_accuracy: 0.7505\n",
      "Epoch 4/25\n",
      "250/250 [==============================] - 34s 137ms/step - loss: 0.5266 - accuracy: 0.7386 - val_loss: 0.5203 - val_accuracy: 0.7475\n",
      "Epoch 5/25\n",
      "250/250 [==============================] - 37s 149ms/step - loss: 0.4989 - accuracy: 0.7539 - val_loss: 0.4825 - val_accuracy: 0.7690\n",
      "Epoch 6/25\n",
      "250/250 [==============================] - 50s 201ms/step - loss: 0.4840 - accuracy: 0.7656 - val_loss: 0.5195 - val_accuracy: 0.7460\n",
      "Epoch 7/25\n",
      "250/250 [==============================] - 35s 139ms/step - loss: 0.4637 - accuracy: 0.7768 - val_loss: 0.4821 - val_accuracy: 0.7755\n",
      "Epoch 8/25\n",
      "250/250 [==============================] - 31s 124ms/step - loss: 0.4544 - accuracy: 0.7850 - val_loss: 0.4823 - val_accuracy: 0.7730\n",
      "Epoch 9/25\n",
      "250/250 [==============================] - 31s 125ms/step - loss: 0.4390 - accuracy: 0.7886 - val_loss: 0.4465 - val_accuracy: 0.7925\n",
      "Epoch 10/25\n",
      "250/250 [==============================] - 32s 128ms/step - loss: 0.4241 - accuracy: 0.8045 - val_loss: 0.4810 - val_accuracy: 0.7870\n",
      "Epoch 11/25\n",
      "250/250 [==============================] - 29s 117ms/step - loss: 0.4219 - accuracy: 0.8064 - val_loss: 0.4393 - val_accuracy: 0.8030\n",
      "Epoch 12/25\n",
      "250/250 [==============================] - 29s 117ms/step - loss: 0.4108 - accuracy: 0.8102 - val_loss: 0.4230 - val_accuracy: 0.8055\n",
      "Epoch 13/25\n",
      "250/250 [==============================] - 29s 117ms/step - loss: 0.3993 - accuracy: 0.8216 - val_loss: 0.4515 - val_accuracy: 0.8070\n",
      "Epoch 14/25\n",
      "250/250 [==============================] - 29s 116ms/step - loss: 0.3885 - accuracy: 0.8225 - val_loss: 0.4830 - val_accuracy: 0.7870\n",
      "Epoch 15/25\n",
      "250/250 [==============================] - 30s 119ms/step - loss: 0.3800 - accuracy: 0.8285 - val_loss: 0.4487 - val_accuracy: 0.7920\n",
      "Epoch 16/25\n",
      "250/250 [==============================] - 31s 122ms/step - loss: 0.3796 - accuracy: 0.8245 - val_loss: 0.5210 - val_accuracy: 0.7530\n",
      "Epoch 17/25\n",
      "250/250 [==============================] - 30s 118ms/step - loss: 0.3698 - accuracy: 0.8339 - val_loss: 0.4450 - val_accuracy: 0.7960\n",
      "Epoch 18/25\n",
      "250/250 [==============================] - 30s 122ms/step - loss: 0.3582 - accuracy: 0.8378 - val_loss: 0.4447 - val_accuracy: 0.8125\n",
      "Epoch 19/25\n",
      "250/250 [==============================] - 35s 142ms/step - loss: 0.3469 - accuracy: 0.8426 - val_loss: 0.4543 - val_accuracy: 0.7985\n",
      "Epoch 20/25\n",
      "250/250 [==============================] - 38s 152ms/step - loss: 0.3394 - accuracy: 0.8455 - val_loss: 0.4331 - val_accuracy: 0.8145\n",
      "Epoch 21/25\n",
      "250/250 [==============================] - 34s 136ms/step - loss: 0.3289 - accuracy: 0.8575 - val_loss: 0.4336 - val_accuracy: 0.8120\n",
      "Epoch 22/25\n",
      "250/250 [==============================] - 33s 132ms/step - loss: 0.3259 - accuracy: 0.8546 - val_loss: 0.4432 - val_accuracy: 0.8085\n",
      "Epoch 23/25\n",
      "250/250 [==============================] - 33s 130ms/step - loss: 0.3252 - accuracy: 0.8583 - val_loss: 0.4480 - val_accuracy: 0.8085\n",
      "Epoch 24/25\n",
      "250/250 [==============================] - 31s 124ms/step - loss: 0.2986 - accuracy: 0.8712 - val_loss: 0.4540 - val_accuracy: 0.8135\n",
      "Epoch 25/25\n",
      "250/250 [==============================] - 30s 121ms/step - loss: 0.2911 - accuracy: 0.8748 - val_loss: 0.4663 - val_accuracy: 0.8025\n"
     ]
    },
    {
     "data": {
      "text/plain": [
       "<tensorflow.python.keras.callbacks.History at 0x7f8dcc144100>"
      ]
     },
     "execution_count": 53,
     "metadata": {},
     "output_type": "execute_result"
    }
   ],
   "source": [
    "cnn.fit(x=training_set,validation_data=test_set,epochs=25)"
   ]
  },
  {
   "cell_type": "markdown",
   "id": "3f316ce5",
   "metadata": {},
   "source": [
    "## Making a single prediction"
   ]
  },
  {
   "cell_type": "code",
   "execution_count": 68,
   "id": "74e774f4",
   "metadata": {},
   "outputs": [
    {
     "name": "stdout",
     "output_type": "stream",
     "text": [
      "dog\n"
     ]
    }
   ],
   "source": [
    "from keras.preprocessing import image\n",
    "test_image=image.load_img('samp.jpeg',target_size=(64,64))\n",
    "test_image=image.img_to_array(test_image)\n",
    "test_image=np.expand_dims(test_image,axis=0)\n",
    "result=cnn.predict(test_image)\n",
    "#print(result[0][0])\n",
    "training_set.class_indices\n",
    "if result[0][0]>=0.5:\n",
    "    \n",
    "    prediction='dog'\n",
    "else:\n",
    "    prediction='cat'\n",
    "print(prediction)"
   ]
  },
  {
   "cell_type": "code",
   "execution_count": null,
   "id": "230cb854",
   "metadata": {},
   "outputs": [],
   "source": []
  }
 ],
 "metadata": {
  "kernelspec": {
   "display_name": "Python 3",
   "language": "python",
   "name": "python3"
  },
  "language_info": {
   "codemirror_mode": {
    "name": "ipython",
    "version": 3
   },
   "file_extension": ".py",
   "mimetype": "text/x-python",
   "name": "python",
   "nbconvert_exporter": "python",
   "pygments_lexer": "ipython3",
   "version": "3.8.8"
  }
 },
 "nbformat": 4,
 "nbformat_minor": 5
}
